{
 "cells": [
  {
   "cell_type": "code",
   "execution_count": 17,
   "id": "e6863df1",
   "metadata": {},
   "outputs": [
    {
     "name": "stdout",
     "output_type": "stream",
     "text": [
      "400\n"
     ]
    }
   ],
   "source": [
    "import csv\n",
    "\n",
    "with open('sprint2 - sprint2.csv') as csvfile:\n",
    "    csv_reader = csv.reader(csvfile, delimiter=',')\n",
    "    count = 0\n",
    "    count_taxi = 0\n",
    "    taxi_id = []\n",
    "    for row in csv_reader:\n",
    "        if count == 0:\n",
    "            count = count + 1\n",
    "            continue\n",
    "        if (float(row[13]) < 10 or float(row[13]) > 60) and row[15] == \"Cash\":\n",
    "            if row[2] not in taxi_id:\n",
    "                count_taxi = count_taxi + 1\n",
    "                taxi_id.append(row[2])\n",
    "    print(count_taxi)"
   ]
  },
  {
   "cell_type": "code",
   "execution_count": null,
   "id": "3e79185d",
   "metadata": {},
   "outputs": [],
   "source": []
  }
 ],
 "metadata": {
  "kernelspec": {
   "display_name": "Python 3 (ipykernel)",
   "language": "python",
   "name": "python3"
  },
  "language_info": {
   "codemirror_mode": {
    "name": "ipython",
    "version": 3
   },
   "file_extension": ".py",
   "mimetype": "text/x-python",
   "name": "python",
   "nbconvert_exporter": "python",
   "pygments_lexer": "ipython3",
   "version": "3.9.12"
  }
 },
 "nbformat": 4,
 "nbformat_minor": 5
}
