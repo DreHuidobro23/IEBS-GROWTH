{
 "cells": [
  {
   "cell_type": "code",
   "execution_count": 4,
   "id": "2d69b941",
   "metadata": {},
   "outputs": [],
   "source": [
    "import pandas as pd"
   ]
  },
  {
   "cell_type": "code",
   "execution_count": 5,
   "id": "09e955d4",
   "metadata": {},
   "outputs": [],
   "source": [
    "metrica = pd.read_csv(\"TEF.csv\")"
   ]
  },
  {
   "cell_type": "code",
   "execution_count": 6,
   "id": "81bf590a",
   "metadata": {
    "scrolled": true
   },
   "outputs": [
    {
     "data": {
      "text/html": [
       "<div>\n",
       "<style scoped>\n",
       "    .dataframe tbody tr th:only-of-type {\n",
       "        vertical-align: middle;\n",
       "    }\n",
       "\n",
       "    .dataframe tbody tr th {\n",
       "        vertical-align: top;\n",
       "    }\n",
       "\n",
       "    .dataframe thead th {\n",
       "        text-align: right;\n",
       "    }\n",
       "</style>\n",
       "<table border=\"1\" class=\"dataframe\">\n",
       "  <thead>\n",
       "    <tr style=\"text-align: right;\">\n",
       "      <th></th>\n",
       "      <th>Date</th>\n",
       "      <th>Open</th>\n",
       "      <th>High</th>\n",
       "      <th>Low</th>\n",
       "      <th>Close</th>\n",
       "      <th>Adj Close</th>\n",
       "      <th>Volume</th>\n",
       "    </tr>\n",
       "  </thead>\n",
       "  <tbody>\n",
       "    <tr>\n",
       "      <th>0</th>\n",
       "      <td>2017-09-21</td>\n",
       "      <td>10.76</td>\n",
       "      <td>10.80</td>\n",
       "      <td>10.73</td>\n",
       "      <td>10.79</td>\n",
       "      <td>7.973684</td>\n",
       "      <td>536200</td>\n",
       "    </tr>\n",
       "    <tr>\n",
       "      <th>1</th>\n",
       "      <td>2017-09-22</td>\n",
       "      <td>10.79</td>\n",
       "      <td>10.81</td>\n",
       "      <td>10.74</td>\n",
       "      <td>10.78</td>\n",
       "      <td>7.966295</td>\n",
       "      <td>947800</td>\n",
       "    </tr>\n",
       "    <tr>\n",
       "      <th>2</th>\n",
       "      <td>2017-09-25</td>\n",
       "      <td>10.74</td>\n",
       "      <td>10.75</td>\n",
       "      <td>10.60</td>\n",
       "      <td>10.68</td>\n",
       "      <td>7.892396</td>\n",
       "      <td>1161000</td>\n",
       "    </tr>\n",
       "    <tr>\n",
       "      <th>3</th>\n",
       "      <td>2017-09-26</td>\n",
       "      <td>10.55</td>\n",
       "      <td>10.56</td>\n",
       "      <td>10.49</td>\n",
       "      <td>10.54</td>\n",
       "      <td>7.788938</td>\n",
       "      <td>1003200</td>\n",
       "    </tr>\n",
       "    <tr>\n",
       "      <th>4</th>\n",
       "      <td>2017-09-27</td>\n",
       "      <td>10.77</td>\n",
       "      <td>10.86</td>\n",
       "      <td>10.77</td>\n",
       "      <td>10.83</td>\n",
       "      <td>8.003243</td>\n",
       "      <td>1475500</td>\n",
       "    </tr>\n",
       "  </tbody>\n",
       "</table>\n",
       "</div>"
      ],
      "text/plain": [
       "         Date   Open   High    Low  Close  Adj Close   Volume\n",
       "0  2017-09-21  10.76  10.80  10.73  10.79   7.973684   536200\n",
       "1  2017-09-22  10.79  10.81  10.74  10.78   7.966295   947800\n",
       "2  2017-09-25  10.74  10.75  10.60  10.68   7.892396  1161000\n",
       "3  2017-09-26  10.55  10.56  10.49  10.54   7.788938  1003200\n",
       "4  2017-09-27  10.77  10.86  10.77  10.83   8.003243  1475500"
      ]
     },
     "execution_count": 6,
     "metadata": {},
     "output_type": "execute_result"
    }
   ],
   "source": [
    "metrica.head()"
   ]
  },
  {
   "cell_type": "code",
   "execution_count": 31,
   "id": "04b69345",
   "metadata": {},
   "outputs": [],
   "source": [
    "open_result = metrica[['Date','Open']]\n",
    "close_result = metrica[['Date','Close']]\n",
    "volume_result = metrica[['Date','Volume']]"
   ]
  },
  {
   "cell_type": "code",
   "execution_count": 42,
   "id": "20bc5a21",
   "metadata": {},
   "outputs": [],
   "source": [
    "valoropenmax = open_result['Open'].max()\n",
    "valoropenmin = open_result['Open'].min()\n",
    "valorclosemin = close_result['Close'].min()\n",
    "valorvolumemin = volume_result['Volume'].min()"
   ]
  },
  {
   "cell_type": "code",
   "execution_count": 39,
   "id": "34aa2b86",
   "metadata": {},
   "outputs": [
    {
     "name": "stdout",
     "output_type": "stream",
     "text": [
      "Valores de apertura\n",
      "Día y valor en el cual la apertura es el máximo\n",
      "          Date   Open\n",
      "14  2017-10-11  10.83\n",
      "Día y valor en el cual el valor es el mínimo\n",
      "           Date  Open\n",
      "782  2020-10-29  3.26\n"
     ]
    }
   ],
   "source": [
    "print('Valores de apertura')\n",
    "print('Día y valor en el cual la apertura es el máximo')\n",
    "print (open_result[open_result.Open==valoropenmax])\n",
    "\n",
    "print('Día y valor en el cual el valor es el mínimo')\n",
    "print (open_result[open_result.Open==valoropenmin])"
   ]
  },
  {
   "cell_type": "code",
   "execution_count": 43,
   "id": "3154f14a",
   "metadata": {
    "scrolled": true
   },
   "outputs": [
    {
     "name": "stdout",
     "output_type": "stream",
     "text": [
      "Valores de cierre\n",
      "Día y valor en el cual la apertura es el máximo\n",
      "          Date  Close\n",
      "14  2017-10-11  10.88\n",
      "Día y valor en el cual el valor es el mínimo\n",
      "           Date  Close\n",
      "783  2020-10-30   3.32\n"
     ]
    }
   ],
   "source": [
    "print('Valores de cierre')\n",
    "print('Día y valor en el cual la apertura es el máximo')\n",
    "print (close_result[open_result.Open==valoropenmax])\n",
    "\n",
    "print('Día y valor en el cual el valor es el mínimo')\n",
    "print (close_result[close_result.Close==valorclosemin])"
   ]
  },
  {
   "cell_type": "code",
   "execution_count": 44,
   "id": "adacc5d4",
   "metadata": {},
   "outputs": [
    {
     "name": "stdout",
     "output_type": "stream",
     "text": [
      "Valores de volumen\n",
      "Día y valor en el cual la apertura es el máximo\n",
      "          Date   Volume\n",
      "14  2017-10-11  1180200\n",
      "Día y valor en el cual el valor es el mínimo\n",
      "           Date  Volume\n",
      "666  2020-05-15  395200\n"
     ]
    }
   ],
   "source": [
    "print('Valores de volumen')\n",
    "print('Día y valor en el cual la apertura es el máximo')\n",
    "print (volume_result[open_result.Open==valoropenmax])\n",
    "\n",
    "print('Día y valor en el cual el valor es el mínimo')\n",
    "print (volume_result[volume_result.Volume==valorvolumemin])"
   ]
  },
  {
   "cell_type": "code",
   "execution_count": null,
   "id": "d73460bd",
   "metadata": {},
   "outputs": [],
   "source": [
    "#Explicación:\n",
    "#Lo primero que hicimos fue importar la librería pandas e importar nuestra bbdd, luego visualizamos nuestra tabla con la función .head() para que nos ayude visualmente.\n",
    "#Luego cómo el enunciado nos pide Fecha y valor en una sola respuesta, generamos la forma en cómo haríamos el llamado a los resultados\n",
    "#Luego procedimos a hallar los valores solicitados: max y min de Apertura, min de Cierre y Volumen.\n",
    "#Finalmente hicimos el llamado de los resultados jalando las columnas correspondientes al valor solicitado"
   ]
  }
 ],
 "metadata": {
  "kernelspec": {
   "display_name": "Python 3 (ipykernel)",
   "language": "python",
   "name": "python3"
  },
  "language_info": {
   "codemirror_mode": {
    "name": "ipython",
    "version": 3
   },
   "file_extension": ".py",
   "mimetype": "text/x-python",
   "name": "python",
   "nbconvert_exporter": "python",
   "pygments_lexer": "ipython3",
   "version": "3.9.12"
  }
 },
 "nbformat": 4,
 "nbformat_minor": 5
}
